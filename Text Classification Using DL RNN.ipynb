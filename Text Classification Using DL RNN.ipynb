{
 "cells": [
  {
   "attachments": {},
   "cell_type": "markdown",
   "id": "3729ea86",
   "metadata": {},
   "source": [
    "# Text Classification with an RNN\n",
    "https://www.tensorflow.org/text/tutorials/text_classification_rnn\n",
    "https://towardsdatascience.com/text-classification-using-word-embeddings-and-deep-learning-in-python-classifying-tweets-from-6fe644fcfc81"
   ]
  },
  {
   "cell_type": "code",
   "execution_count": 2,
   "id": "33287b15",
   "metadata": {},
   "outputs": [
    {
     "name": "stderr",
     "output_type": "stream",
     "text": [
      "2022-10-16 14:27:07.550520: I tensorflow/core/platform/cpu_feature_guard.cc:193] This TensorFlow binary is optimized with oneAPI Deep Neural Network Library (oneDNN) to use the following CPU instructions in performance-critical operations:  AVX2 FMA\n",
      "To enable them in other operations, rebuild TensorFlow with the appropriate compiler flags.\n"
     ]
    }
   ],
   "source": [
    "import pandas as pd\n",
    "import numpy as np\n",
    "import os\n",
    "from datetime import date\n",
    "from text_preprocessing import TextToTensor\n",
    "import tensorflow as tf"
   ]
  },
  {
   "cell_type": "code",
   "execution_count": 3,
   "id": "75a8b544",
   "metadata": {},
   "outputs": [],
   "source": [
    "import matplotlib.pyplot as plt\n",
    "\n",
    "def plot_graphs(history, metric):\n",
    "    plt.plot(history.history[metric])\n",
    "    plt.plot(history.history['val_'+metric], '')\n",
    "    plt.xlabel(\"Epochs\")\n",
    "    plt.ylabel(metric)\n",
    "    plt.legend([metric, 'val_'+metric])"
   ]
  },
  {
   "cell_type": "markdown",
   "id": "f6c58267",
   "metadata": {},
   "source": [
    "## 1. Setup input pipeline"
   ]
  },
  {
   "cell_type": "markdown",
   "id": "6e402e1b",
   "metadata": {},
   "source": [
    "### 1.1. Stop words"
   ]
  },
  {
   "cell_type": "code",
   "execution_count": 4,
   "id": "2196b7e0",
   "metadata": {},
   "outputs": [],
   "source": [
    "stop_words = []\n",
    "try:\n",
    "    stop_words = pd.read_csv('./data/stop_words.txt', header=None)[0].tolist()\n",
    "except Exception as e:\n",
    "    print(f'Bad stop_words.txt file: {e}')"
   ]
  },
  {
   "cell_type": "markdown",
   "id": "cad0426b",
   "metadata": {},
   "source": [
    "### 1.2. The datasets"
   ]
  },
  {
   "cell_type": "code",
   "execution_count": 5,
   "id": "2c3d0a42",
   "metadata": {},
   "outputs": [],
   "source": [
    "train = pd.read_csv('./data/train.csv')[['text', 'target']]\n",
    "test = pd.read_csv('./data/test.csv')"
   ]
  },
  {
   "cell_type": "code",
   "execution_count": 12,
   "id": "f680d106",
   "metadata": {},
   "outputs": [
    {
     "data": {
      "text/plain": [
       "pandas.core.series.Series"
      ]
     },
     "execution_count": 12,
     "metadata": {},
     "output_type": "execute_result"
    }
   ],
   "source": [
    "type(train.iloc[1])"
   ]
  },
  {
   "cell_type": "code",
   "execution_count": 13,
   "id": "bac9ab7c",
   "metadata": {},
   "outputs": [
    {
     "name": "stdout",
     "output_type": "stream",
     "text": [
      "text: Forest fire near La Ronge Sask. Canada\n",
      "label: 1\n"
     ]
    }
   ],
   "source": [
    "for example in [train.iloc[1]]:\n",
    "    print(f'text: {example[0]}')\n",
    "    print(f'label: {example[1]}')"
   ]
  },
  {
   "cell_type": "code",
   "execution_count": 14,
   "id": "6dde7bf1",
   "metadata": {},
   "outputs": [
    {
     "data": {
      "text/html": [
       "<div>\n",
       "<style scoped>\n",
       "    .dataframe tbody tr th:only-of-type {\n",
       "        vertical-align: middle;\n",
       "    }\n",
       "\n",
       "    .dataframe tbody tr th {\n",
       "        vertical-align: top;\n",
       "    }\n",
       "\n",
       "    .dataframe thead th {\n",
       "        text-align: right;\n",
       "    }\n",
       "</style>\n",
       "<table border=\"1\" class=\"dataframe\">\n",
       "  <thead>\n",
       "    <tr style=\"text-align: right;\">\n",
       "      <th></th>\n",
       "      <th>text</th>\n",
       "      <th>target</th>\n",
       "    </tr>\n",
       "  </thead>\n",
       "  <tbody>\n",
       "    <tr>\n",
       "      <th>0</th>\n",
       "      <td>Our Deeds are the Reason of this #earthquake M...</td>\n",
       "      <td>1</td>\n",
       "    </tr>\n",
       "    <tr>\n",
       "      <th>1</th>\n",
       "      <td>Forest fire near La Ronge Sask. Canada</td>\n",
       "      <td>1</td>\n",
       "    </tr>\n",
       "    <tr>\n",
       "      <th>2</th>\n",
       "      <td>All residents asked to 'shelter in place' are ...</td>\n",
       "      <td>1</td>\n",
       "    </tr>\n",
       "    <tr>\n",
       "      <th>3</th>\n",
       "      <td>13,000 people receive #wildfires evacuation or...</td>\n",
       "      <td>1</td>\n",
       "    </tr>\n",
       "    <tr>\n",
       "      <th>4</th>\n",
       "      <td>Just got sent this photo from Ruby #Alaska as ...</td>\n",
       "      <td>1</td>\n",
       "    </tr>\n",
       "  </tbody>\n",
       "</table>\n",
       "</div>"
      ],
      "text/plain": [
       "                                                text  target\n",
       "0  Our Deeds are the Reason of this #earthquake M...       1\n",
       "1             Forest fire near La Ronge Sask. Canada       1\n",
       "2  All residents asked to 'shelter in place' are ...       1\n",
       "3  13,000 people receive #wildfires evacuation or...       1\n",
       "4  Just got sent this photo from Ruby #Alaska as ...       1"
      ]
     },
     "execution_count": 14,
     "metadata": {},
     "output_type": "execute_result"
    }
   ],
   "source": [
    "train.head()"
   ]
  },
  {
   "cell_type": "code",
   "execution_count": 15,
   "id": "dab9075a",
   "metadata": {},
   "outputs": [
    {
     "data": {
      "text/html": [
       "<div>\n",
       "<style scoped>\n",
       "    .dataframe tbody tr th:only-of-type {\n",
       "        vertical-align: middle;\n",
       "    }\n",
       "\n",
       "    .dataframe tbody tr th {\n",
       "        vertical-align: top;\n",
       "    }\n",
       "\n",
       "    .dataframe thead th {\n",
       "        text-align: right;\n",
       "    }\n",
       "</style>\n",
       "<table border=\"1\" class=\"dataframe\">\n",
       "  <thead>\n",
       "    <tr style=\"text-align: right;\">\n",
       "      <th></th>\n",
       "      <th>id</th>\n",
       "      <th>keyword</th>\n",
       "      <th>location</th>\n",
       "      <th>text</th>\n",
       "    </tr>\n",
       "  </thead>\n",
       "  <tbody>\n",
       "    <tr>\n",
       "      <th>0</th>\n",
       "      <td>0</td>\n",
       "      <td>NaN</td>\n",
       "      <td>NaN</td>\n",
       "      <td>Just happened a terrible car crash</td>\n",
       "    </tr>\n",
       "    <tr>\n",
       "      <th>1</th>\n",
       "      <td>2</td>\n",
       "      <td>NaN</td>\n",
       "      <td>NaN</td>\n",
       "      <td>Heard about #earthquake is different cities, s...</td>\n",
       "    </tr>\n",
       "    <tr>\n",
       "      <th>2</th>\n",
       "      <td>3</td>\n",
       "      <td>NaN</td>\n",
       "      <td>NaN</td>\n",
       "      <td>there is a forest fire at spot pond, geese are...</td>\n",
       "    </tr>\n",
       "    <tr>\n",
       "      <th>3</th>\n",
       "      <td>9</td>\n",
       "      <td>NaN</td>\n",
       "      <td>NaN</td>\n",
       "      <td>Apocalypse lighting. #Spokane #wildfires</td>\n",
       "    </tr>\n",
       "    <tr>\n",
       "      <th>4</th>\n",
       "      <td>11</td>\n",
       "      <td>NaN</td>\n",
       "      <td>NaN</td>\n",
       "      <td>Typhoon Soudelor kills 28 in China and Taiwan</td>\n",
       "    </tr>\n",
       "  </tbody>\n",
       "</table>\n",
       "</div>"
      ],
      "text/plain": [
       "   id keyword location                                               text\n",
       "0   0     NaN      NaN                 Just happened a terrible car crash\n",
       "1   2     NaN      NaN  Heard about #earthquake is different cities, s...\n",
       "2   3     NaN      NaN  there is a forest fire at spot pond, geese are...\n",
       "3   9     NaN      NaN           Apocalypse lighting. #Spokane #wildfires\n",
       "4  11     NaN      NaN      Typhoon Soudelor kills 28 in China and Taiwan"
      ]
     },
     "execution_count": 15,
     "metadata": {},
     "output_type": "execute_result"
    }
   ],
   "source": [
    "test.head()"
   ]
  },
  {
   "cell_type": "markdown",
   "id": "c614bf39",
   "metadata": {},
   "source": [
    "### 1.3. Shuffle the data for the k-fold analysis"
   ]
  },
  {
   "cell_type": "code",
   "execution_count": 16,
   "id": "76764df5",
   "metadata": {},
   "outputs": [],
   "source": [
    "train = train.sample(frac=1)"
   ]
  },
  {
   "cell_type": "code",
   "execution_count": 17,
   "id": "206ebd99",
   "metadata": {},
   "outputs": [
    {
     "data": {
      "text/html": [
       "<div>\n",
       "<style scoped>\n",
       "    .dataframe tbody tr th:only-of-type {\n",
       "        vertical-align: middle;\n",
       "    }\n",
       "\n",
       "    .dataframe tbody tr th {\n",
       "        vertical-align: top;\n",
       "    }\n",
       "\n",
       "    .dataframe thead th {\n",
       "        text-align: right;\n",
       "    }\n",
       "</style>\n",
       "<table border=\"1\" class=\"dataframe\">\n",
       "  <thead>\n",
       "    <tr style=\"text-align: right;\">\n",
       "      <th></th>\n",
       "      <th>text</th>\n",
       "      <th>target</th>\n",
       "    </tr>\n",
       "  </thead>\n",
       "  <tbody>\n",
       "    <tr>\n",
       "      <th>3999</th>\n",
       "      <td>Typhoon Soudelor approaches after 7 killed 2 m...</td>\n",
       "      <td>1</td>\n",
       "    </tr>\n",
       "    <tr>\n",
       "      <th>5904</th>\n",
       "      <td>Watch This Airport Get Swallowed Up By A Sands...</td>\n",
       "      <td>1</td>\n",
       "    </tr>\n",
       "    <tr>\n",
       "      <th>2362</th>\n",
       "      <td>7 Christians detained in Zhejiang amid widespr...</td>\n",
       "      <td>0</td>\n",
       "    </tr>\n",
       "    <tr>\n",
       "      <th>6242</th>\n",
       "      <td>Can you list 5 reasons why a London #TubeStrik...</td>\n",
       "      <td>0</td>\n",
       "    </tr>\n",
       "    <tr>\n",
       "      <th>6165</th>\n",
       "      <td>u know the music good when you hear the siren ...</td>\n",
       "      <td>0</td>\n",
       "    </tr>\n",
       "  </tbody>\n",
       "</table>\n",
       "</div>"
      ],
      "text/plain": [
       "                                                   text  target\n",
       "3999  Typhoon Soudelor approaches after 7 killed 2 m...       1\n",
       "5904  Watch This Airport Get Swallowed Up By A Sands...       1\n",
       "2362  7 Christians detained in Zhejiang amid widespr...       0\n",
       "6242  Can you list 5 reasons why a London #TubeStrik...       0\n",
       "6165  u know the music good when you hear the siren ...       0"
      ]
     },
     "execution_count": 17,
     "metadata": {},
     "output_type": "execute_result"
    }
   ],
   "source": [
    "train.head()"
   ]
  },
  {
   "cell_type": "code",
   "execution_count": 18,
   "id": "926be9a5",
   "metadata": {},
   "outputs": [
    {
     "name": "stdout",
     "output_type": "stream",
     "text": [
      "text: Watch This Airport Get Swallowed Up By A Sandstorm In Under A Minute http://t.co/8L4RFFZD0P\n",
      "label: 1\n"
     ]
    }
   ],
   "source": [
    "for example in [train.iloc[1]]:\n",
    "    print(f'text: {example[0]}')\n",
    "    print(f'label: {example[1]}')"
   ]
  },
  {
   "cell_type": "markdown",
   "id": "ea5a7728",
   "metadata": {},
   "source": [
    "### 1.4. Split train to X (texts) and y (labels)"
   ]
  },
  {
   "cell_type": "code",
   "execution_count": 19,
   "id": "94ead2ed",
   "metadata": {},
   "outputs": [],
   "source": [
    "X_train = train['text'].tolist()\n",
    "y_train = train['target'].tolist()\n",
    "\n",
    "X_test = test['text'].tolist()"
   ]
  },
  {
   "cell_type": "code",
   "execution_count": 20,
   "id": "72e1df92",
   "metadata": {},
   "outputs": [
    {
     "data": {
      "text/plain": [
       "['Typhoon Soudelor approaches after 7 killed 2 missing in floods in Philippines http://t.co/nJMiDySXoF via @abc7chicago',\n",
       " 'Watch This Airport Get Swallowed Up By A Sandstorm In Under A Minute http://t.co/8L4RFFZD0P',\n",
       " '7 Christians detained in Zhejiang amid widespread anger over cross removal- over 1200 crosses removed since last yr http://t.co/8PICbkDJM0',\n",
       " 'Can you list 5 reasons why a London #TubeStrike is better than a Snowstorm? Read here... http://t.co/PNaQXPrweg',\n",
       " 'u know the music good when you hear the siren and you get chills']"
      ]
     },
     "execution_count": 20,
     "metadata": {},
     "output_type": "execute_result"
    }
   ],
   "source": [
    "X_train[:5]"
   ]
  },
  {
   "cell_type": "code",
   "execution_count": 21,
   "id": "0d85e3d3",
   "metadata": {},
   "outputs": [
    {
     "data": {
      "text/plain": [
       "[1, 1, 0, 0, 0]"
      ]
     },
     "execution_count": 21,
     "metadata": {},
     "output_type": "execute_result"
    }
   ],
   "source": [
    "y_train[:5]"
   ]
  },
  {
   "cell_type": "code",
   "execution_count": 22,
   "id": "659bee6f",
   "metadata": {},
   "outputs": [
    {
     "data": {
      "text/plain": [
       "['Just happened a terrible car crash',\n",
       " 'Heard about #earthquake is different cities, stay safe everyone.',\n",
       " 'there is a forest fire at spot pond, geese are fleeing across the street, I cannot save them all',\n",
       " 'Apocalypse lighting. #Spokane #wildfires',\n",
       " 'Typhoon Soudelor kills 28 in China and Taiwan']"
      ]
     },
     "execution_count": 22,
     "metadata": {},
     "output_type": "execute_result"
    }
   ],
   "source": [
    "X_test[:5]"
   ]
  },
  {
   "cell_type": "code",
   "execution_count": 46,
   "id": "a20a9ece",
   "metadata": {},
   "outputs": [],
   "source": [
    "# TODO: Clean the texts"
   ]
  },
  {
   "cell_type": "markdown",
   "id": "e0e100b5",
   "metadata": {},
   "source": [
    "## 2. Create the text encoder\n",
    "The raw text needs to be processed before it can be used in a model. \n",
    "\n",
    "Here we TextVectorization will be used to create the layer."
   ]
  },
  {
   "cell_type": "markdown",
   "id": "0b3903fa",
   "metadata": {},
   "source": [
    "Create the encoder layer and pass the dataset's text to the layer's .adapt method"
   ]
  },
  {
   "cell_type": "code",
   "execution_count": 37,
   "id": "08119c80",
   "metadata": {},
   "outputs": [],
   "source": [
    "VOCAB_SIZE = 5000\n",
    "encoder = tf.keras.layers.TextVectorization(max_tokens=VOCAB_SIZE)\n",
    "encoder.adapt(X_train)"
   ]
  },
  {
   "cell_type": "markdown",
   "id": "88cdcfca",
   "metadata": {},
   "source": [
    "The .adapt method sets the layer's vocabulary. Here are the first 20 tokens. After the padding and unknown tokers they're sorted by frequency:"
   ]
  },
  {
   "cell_type": "code",
   "execution_count": 38,
   "id": "1663c767",
   "metadata": {},
   "outputs": [],
   "source": [
    "vocabs = np.array(encoder.get_vocabulary())"
   ]
  },
  {
   "cell_type": "code",
   "execution_count": 42,
   "id": "2d97cb2a",
   "metadata": {},
   "outputs": [
    {
     "data": {
      "text/plain": [
       "array(['', '[UNK]', 'the', 'a', 'in', 'to', 'of', 'and', 'i', 'is', 'for',\n",
       "       'on', 'you', 'my', 'with', 'it', 'that', 'at', 'by', 'this'],\n",
       "      dtype='<U29')"
      ]
     },
     "execution_count": 42,
     "metadata": {},
     "output_type": "execute_result"
    }
   ],
   "source": [
    "vocabs[:20]"
   ]
  },
  {
   "cell_type": "code",
   "execution_count": 41,
   "id": "d982246b",
   "metadata": {},
   "outputs": [
    {
     "data": {
      "text/plain": [
       "array(['shaker', 'sewer', 'settle', 'setlist', 'server', 'serve',\n",
       "       'servants', 'sequel', 'sept', 'sep', 'selling', 'sell',\n",
       "       'selection', 'seduction', 'seal', 'scwx', 'scuf', 'screw',\n",
       "       'screamqueens', 'scream'], dtype='<U29')"
      ]
     },
     "execution_count": 41,
     "metadata": {},
     "output_type": "execute_result"
    }
   ],
   "source": [
    "vocabs[4980:5001]"
   ]
  },
  {
   "cell_type": "markdown",
   "id": "3002ca2d",
   "metadata": {},
   "source": [
    "Once the vocabulary is set, the layer can encode text into indices. The tensors of indices are 0-padded to the longest sequence in the batch (unless we set a fixed ouput_sequence_length)"
   ]
  },
  {
   "cell_type": "code",
   "execution_count": 48,
   "id": "e07ce1f5",
   "metadata": {},
   "outputs": [
    {
     "data": {
      "text/plain": [
       "['Typhoon Soudelor approaches after 7 killed 2 missing in floods in Philippines http://t.co/nJMiDySXoF via @abc7chicago',\n",
       " 'Watch This Airport Get Swallowed Up By A Sandstorm In Under A Minute http://t.co/8L4RFFZD0P',\n",
       " '7 Christians detained in Zhejiang amid widespread anger over cross removal- over 1200 crosses removed since last yr http://t.co/8PICbkDJM0']"
      ]
     },
     "execution_count": 48,
     "metadata": {},
     "output_type": "execute_result"
    }
   ],
   "source": [
    "X_train[:3]"
   ]
  },
  {
   "cell_type": "code",
   "execution_count": 47,
   "id": "7fb7c17f",
   "metadata": {},
   "outputs": [
    {
     "data": {
      "text/plain": [
       "array([[ 509,  740, 2357,   38,  679,  115,   72,  301,    4,  210,    4,\n",
       "        1292,    1,   51,    1,    0,    0,    0,    0,    0,    0,    0,\n",
       "           0,    0,    0,    0,    0,    0,    0,    0,    0],\n",
       "       [ 134,   19,  587,   48,  656,   28,   18,    3,  396,    4,  213,\n",
       "           3,  572,    1,    0,    0,    0,    0,    0,    0,    0,    0,\n",
       "           0,    0,    0,    0,    0,    0,    0,    0,    0],\n",
       "       [ 679, 2756, 4226,    4,    1,  761, 3503, 4457,   64,  266, 3764,\n",
       "          64, 3477, 4261,    1,  229,  137, 2376,    1,    0,    0,    0,\n",
       "           0,    0,    0,    0,    0,    0,    0,    0,    0]])"
      ]
     },
     "execution_count": 47,
     "metadata": {},
     "output_type": "execute_result"
    }
   ],
   "source": [
    "encoded_example = encoder(X_train)[:3].numpy()\n",
    "encoded_example"
   ]
  },
  {
   "attachments": {
    "image.png": {
     "image/png": "[encoded data removed]"
    }
   },
   "cell_type": "markdown",
   "id": "705466df",
   "metadata": {},
   "source": [
    "Let's try to reverse the encoded example to its original texts.\n",
    "\n",
    "![image.png](attachment:image.png)"
   ]
  },
  {
   "cell_type": "code",
   "execution_count": 50,
   "id": "4c0dbc32",
   "metadata": {},
   "outputs": [
    {
     "name": "stdout",
     "output_type": "stream",
     "text": [
      "Original: Typhoon Soudelor approaches after 7 killed 2 missing in floods in Philippines http://t.co/nJMiDySXoF via @abc7chicago\n",
      "Round-trip: typhoon soudelor approaches after 7 killed 2 missing in floods in philippines [UNK] via [UNK]                \n",
      "\n"
     ]
    }
   ],
   "source": [
    "print(f\"Original: {X_train[0]}\")\n",
    "round_trip = \" \".join(vocabs[encoded_example[0]])\n",
    "print(f\"Round-trip: {round_trip}\")\n",
    "print()"
   ]
  },
  {
   "attachments": {
    "image.png": {
     "image/png": "[encoded data removed]"
    }
   },
   "cell_type": "markdown",
   "id": "797c51c5",
   "metadata": {},
   "source": [
    "## 3. Create the model\n",
    "### 3.1. Define the RNN model\n",
    "![image.png](attachment:image.png)"
   ]
  },
  {
   "cell_type": "markdown",
   "id": "61ef5ea4",
   "metadata": {},
   "source": [
    "- The model will be build as a tf.keras.Sequential\n",
    "- The input layer passes in the raw texts\n",
    "- The first layer is the *encoder* that converts the text to a sequence to token indices.\n",
    "- The second layer is an *embedding layer*. This layer stores one vector per word. \n",
    "    - When called, it converts the sequences of word indices to sequences of vectors.\n",
    "    - These vectors are trainable. After training, words with similar meanings often have similar vectors.\n",
    "- A RNN processes sequence input by iterating through the elements. RNNs pass the outputs from one timestep to their input on the next timestep.\n",
    "    - tf.keras.layers.Bidirectional wrapper can also be used with an RNN layer. This propagates the input forward and backwards through the RNN layer and then concatenates the final output.\n",
    "    - Main adv: the signal from the beginning of the input doesn't need to be processed all the way through every timestep to affect the output.\n",
    "    - Main disadv: we can't efficiently stream predictions as words are being added to the end\n",
    "- After the RNN has converted the sequence to a single vector, the 2 layers.Dense do some final processing, and convert from this vector representation to a single logit as the classification output.\n",
    "\n",
    "Source: https://www.tensorflow.org/text/tutorials/text_classification_rnn"
   ]
  },
  {
   "cell_type": "code",
   "execution_count": 53,
   "id": "f97b6fa0",
   "metadata": {},
   "outputs": [],
   "source": [
    "from tensorflow.keras import Sequential\n",
    "from tensorflow.keras.layers import Embedding, Bidirectional, LSTM, Dense"
   ]
  },
  {
   "cell_type": "markdown",
   "id": "085fda6f",
   "metadata": {},
   "source": [
    "Keras sequential model is used here since all the layers in the model only have single input and produce single output.\n",
    "\n",
    "To use stateful RNN layer, build the model with Keras functional API or model subclassing so that RNN layer states can be retrieved and reused.\n",
    "\n",
    "Source: https://www.tensorflow.org/guide/keras/rnn#rnn_state_reuse"
   ]
  },
  {
   "cell_type": "code",
   "execution_count": 55,
   "id": "9dd35b13",
   "metadata": {},
   "outputs": [],
   "source": [
    "model = Sequential([\n",
    "    encoder,\n",
    "    Embedding(\n",
    "        input_dim=len(encoder.get_vocabulary()),\n",
    "        output_dim=64,\n",
    "        # masking is used to handle the variable sequence lengths\n",
    "        mask_zero=True\n",
    "    ),\n",
    "    Bidirectional(LSTM(64)),\n",
    "    Dense(64, activation='relu'),\n",
    "    Dense(1)\n",
    "])"
   ]
  },
  {
   "cell_type": "code",
   "execution_count": 56,
   "id": "a135ef7f",
   "metadata": {},
   "outputs": [
    {
     "name": "stdout",
     "output_type": "stream",
     "text": [
      "Model: \"sequential\"\n",
      "_________________________________________________________________\n",
      " Layer (type)                Output Shape              Param #   \n",
      "=================================================================\n",
      " text_vectorization_3 (TextV  (None, None)             0         \n",
      " ectorization)                                                   \n",
      "                                                                 \n",
      " embedding (Embedding)       (None, None, 64)          320000    \n",
      "                                                                 \n",
      " bidirectional (Bidirectiona  (None, 128)              66048     \n",
      " l)                                                              \n",
      "                                                                 \n",
      " dense (Dense)               (None, 64)                8256      \n",
      "                                                                 \n",
      " dense_1 (Dense)             (None, 1)                 65        \n",
      "                                                                 \n",
      "=================================================================\n",
      "Total params: 394,369\n",
      "Trainable params: 394,369\n",
      "Non-trainable params: 0\n",
      "_________________________________________________________________\n"
     ]
    }
   ],
   "source": [
    "model.summary()"
   ]
  },
  {
   "cell_type": "code",
   "execution_count": 57,
   "id": "454d540b",
   "metadata": {},
   "outputs": [
    {
     "name": "stdout",
     "output_type": "stream",
     "text": [
      "[False, True, True, True, True]\n"
     ]
    }
   ],
   "source": [
    "# All the layers after Embedding layer support masking\n",
    "print([layer.supports_masking for layer in model.layers])"
   ]
  },
  {
   "cell_type": "code",
   "execution_count": 60,
   "id": "0594967f",
   "metadata": {},
   "outputs": [
    {
     "name": "stdout",
     "output_type": "stream",
     "text": [
      "1/1 [==============================] - 0s 60ms/step\n",
      "[[0.00321409]]\n"
     ]
    }
   ],
   "source": [
    "# Predict sample_text\n",
    "sample_text = 'There is an earthquake in Kuta Selatan Bali! Everybody was running outside!'\n",
    "predictions = model.predict(np.array([sample_text]))\n",
    "print(predictions)"
   ]
  },
  {
   "cell_type": "code",
   "execution_count": 62,
   "id": "16f6de41",
   "metadata": {},
   "outputs": [
    {
     "name": "stdout",
     "output_type": "stream",
     "text": [
      "1/1 [==============================] - 0s 222ms/step\n",
      "[0.00321408]\n"
     ]
    }
   ],
   "source": [
    "# Predict on a sample text with padding\n",
    "padding = \"the \" * 2000\n",
    "predictions = model.predict(np.array([sample_text, padding]))\n",
    "print(predictions[0])"
   ]
  },
  {
   "cell_type": "markdown",
   "id": "fb892804",
   "metadata": {},
   "source": [
    "The results were identical"
   ]
  },
  {
   "cell_type": "markdown",
   "id": "1b24a1f7",
   "metadata": {},
   "source": [
    "### 3.2. Compile the model\n",
    "To configure the training process"
   ]
  },
  {
   "cell_type": "code",
   "execution_count": 64,
   "id": "6f504fc8",
   "metadata": {},
   "outputs": [],
   "source": [
    "from tensorflow.keras.losses import BinaryCrossentropy\n",
    "from tensorflow.keras.optimizers import Adam"
   ]
  },
  {
   "cell_type": "code",
   "execution_count": 65,
   "id": "f93bf13a",
   "metadata": {},
   "outputs": [],
   "source": [
    "model.compile(loss = BinaryCrossentropy(from_logits=True),\n",
    "             optimizer = Adam(1e-4),\n",
    "             metrics=['accuracy'])"
   ]
  },
  {
   "cell_type": "markdown",
   "id": "f8b470ef",
   "metadata": {},
   "source": [
    "### 3.3. Train the model\n",
    "https://www.tensorflow.org/api_docs/python/tf/keras/Sequential"
   ]
  },
  {
   "cell_type": "code",
   "execution_count": 66,
   "id": "77eae76d",
   "metadata": {},
   "outputs": [
    {
     "name": "stdout",
     "output_type": "stream",
     "text": [
      "Epoch 1/10\n",
      "238/238 [==============================] - 21s 41ms/step - loss: 0.6775 - accuracy: 0.5703\n",
      "Epoch 2/10\n",
      "238/238 [==============================] - 8s 32ms/step - loss: 0.4977 - accuracy: 0.7558\n",
      "Epoch 3/10\n",
      "238/238 [==============================] - 8s 33ms/step - loss: 0.3878 - accuracy: 0.8336\n",
      "Epoch 4/10\n",
      "238/238 [==============================] - 8s 35ms/step - loss: 0.3314 - accuracy: 0.8623\n",
      "Epoch 5/10\n",
      "238/238 [==============================] - 8s 33ms/step - loss: 0.2944 - accuracy: 0.8785\n",
      "Epoch 6/10\n",
      "238/238 [==============================] - 8s 35ms/step - loss: 0.2613 - accuracy: 0.8944\n",
      "Epoch 7/10\n",
      "238/238 [==============================] - 8s 33ms/step - loss: 0.2305 - accuracy: 0.9099\n",
      "Epoch 8/10\n",
      "238/238 [==============================] - 8s 33ms/step - loss: 0.2114 - accuracy: 0.9186\n",
      "Epoch 9/10\n",
      "238/238 [==============================] - 8s 32ms/step - loss: 0.1900 - accuracy: 0.9254\n",
      "Epoch 10/10\n",
      "238/238 [==============================] - 8s 32ms/step - loss: 0.1765 - accuracy: 0.9306\n"
     ]
    }
   ],
   "source": [
    "history = model.fit(X_train,y_train,epochs=10)"
   ]
  },
  {
   "cell_type": "markdown",
   "id": "6623fd6e",
   "metadata": {},
   "source": [
    "### 3.4. Predictions"
   ]
  },
  {
   "cell_type": "code",
   "execution_count": 85,
   "id": "e67ca651",
   "metadata": {},
   "outputs": [],
   "source": [
    "def transformPredictions(preds):\n",
    "    \"\"\"\n",
    "    Function to normalize and \n",
    "    transform pred to 1 or 0 based on the threshold: 0\n",
    "    Args:\n",
    "    - unnormalized preds: array like\n",
    "    \"\"\"\n",
    "    norm = np.linalg.norm(preds)\n",
    "    normal_array = preds/norm\n",
    "    \n",
    "    transformed_yhat = []\n",
    "    for i in normal_array:\n",
    "        if i >= 0:\n",
    "            transformed_yhat.append(1)\n",
    "        else:\n",
    "            transformed_yhat.append(0)\n",
    "    \n",
    "    return transformed_yhat"
   ]
  },
  {
   "cell_type": "code",
   "execution_count": 89,
   "id": "e8c732b2",
   "metadata": {},
   "outputs": [
    {
     "name": "stdout",
     "output_type": "stream",
     "text": [
      "1/1 [==============================] - 0s 44ms/step\n",
      "[1]\n"
     ]
    }
   ],
   "source": [
    "# Using sample_text\n",
    "# sample_text = 'There is an earthquake in Kuta Selatan Bali! Everybody was running outside!'\n",
    "predictions = model.predict(np.array([sample_text]))\n",
    "print(transformPredictions(predictions))"
   ]
  },
  {
   "cell_type": "code",
   "execution_count": 73,
   "id": "38aec07a",
   "metadata": {},
   "outputs": [
    {
     "name": "stdout",
     "output_type": "stream",
     "text": [
      "102/102 [==============================] - 1s 10ms/step\n"
     ]
    }
   ],
   "source": [
    "# Using the test_set - unlabeled\n",
    "predictions1 = model.predict(np.array(X_test))"
   ]
  },
  {
   "cell_type": "code",
   "execution_count": 86,
   "id": "27e08524",
   "metadata": {},
   "outputs": [],
   "source": [
    "transformed_yhat = transformPredictions(predictions1)"
   ]
  },
  {
   "cell_type": "code",
   "execution_count": 90,
   "id": "6393c06d",
   "metadata": {},
   "outputs": [],
   "source": [
    "preds = {'Text': X_test, 'Prediction': transformed_yhat}\n",
    "preds = pd.DataFrame(preds)"
   ]
  },
  {
   "cell_type": "code",
   "execution_count": 96,
   "id": "c3598c85",
   "metadata": {},
   "outputs": [],
   "source": [
    "preds.to_csv('./data/predictions_test.csv')"
   ]
  },
  {
   "cell_type": "code",
   "execution_count": 94,
   "id": "c3318850",
   "metadata": {
    "scrolled": true
   },
   "outputs": [
    {
     "data": {
      "text/html": [
       "<div>\n",
       "<style scoped>\n",
       "    .dataframe tbody tr th:only-of-type {\n",
       "        vertical-align: middle;\n",
       "    }\n",
       "\n",
       "    .dataframe tbody tr th {\n",
       "        vertical-align: top;\n",
       "    }\n",
       "\n",
       "    .dataframe thead th {\n",
       "        text-align: right;\n",
       "    }\n",
       "</style>\n",
       "<table border=\"1\" class=\"dataframe\">\n",
       "  <thead>\n",
       "    <tr style=\"text-align: right;\">\n",
       "      <th></th>\n",
       "      <th>Text</th>\n",
       "      <th>Prediction</th>\n",
       "    </tr>\n",
       "  </thead>\n",
       "  <tbody>\n",
       "    <tr>\n",
       "      <th>0</th>\n",
       "      <td>Just happened a terrible car crash</td>\n",
       "      <td>1</td>\n",
       "    </tr>\n",
       "    <tr>\n",
       "      <th>1</th>\n",
       "      <td>Heard about #earthquake is different cities, s...</td>\n",
       "      <td>1</td>\n",
       "    </tr>\n",
       "    <tr>\n",
       "      <th>2</th>\n",
       "      <td>there is a forest fire at spot pond, geese are...</td>\n",
       "      <td>1</td>\n",
       "    </tr>\n",
       "    <tr>\n",
       "      <th>3</th>\n",
       "      <td>Apocalypse lighting. #Spokane #wildfires</td>\n",
       "      <td>1</td>\n",
       "    </tr>\n",
       "    <tr>\n",
       "      <th>4</th>\n",
       "      <td>Typhoon Soudelor kills 28 in China and Taiwan</td>\n",
       "      <td>1</td>\n",
       "    </tr>\n",
       "    <tr>\n",
       "      <th>5</th>\n",
       "      <td>We're shaking...It's an earthquake</td>\n",
       "      <td>1</td>\n",
       "    </tr>\n",
       "    <tr>\n",
       "      <th>6</th>\n",
       "      <td>They'd probably still show more life than Arse...</td>\n",
       "      <td>0</td>\n",
       "    </tr>\n",
       "    <tr>\n",
       "      <th>7</th>\n",
       "      <td>Hey! How are you?</td>\n",
       "      <td>0</td>\n",
       "    </tr>\n",
       "    <tr>\n",
       "      <th>8</th>\n",
       "      <td>What a nice hat?</td>\n",
       "      <td>0</td>\n",
       "    </tr>\n",
       "    <tr>\n",
       "      <th>9</th>\n",
       "      <td>Fuck off!</td>\n",
       "      <td>0</td>\n",
       "    </tr>\n",
       "    <tr>\n",
       "      <th>10</th>\n",
       "      <td>No I don't like cold!</td>\n",
       "      <td>0</td>\n",
       "    </tr>\n",
       "    <tr>\n",
       "      <th>11</th>\n",
       "      <td>NOOOOOOOOO! Don't do that!</td>\n",
       "      <td>0</td>\n",
       "    </tr>\n",
       "    <tr>\n",
       "      <th>12</th>\n",
       "      <td>No don't tell me that!</td>\n",
       "      <td>0</td>\n",
       "    </tr>\n",
       "    <tr>\n",
       "      <th>13</th>\n",
       "      <td>What if?!</td>\n",
       "      <td>0</td>\n",
       "    </tr>\n",
       "    <tr>\n",
       "      <th>14</th>\n",
       "      <td>Awesome!</td>\n",
       "      <td>0</td>\n",
       "    </tr>\n",
       "    <tr>\n",
       "      <th>15</th>\n",
       "      <td>Birmingham Wholesale Market is ablaze BBC News...</td>\n",
       "      <td>1</td>\n",
       "    </tr>\n",
       "    <tr>\n",
       "      <th>16</th>\n",
       "      <td>@sunkxssedharry will you wear shorts for race ...</td>\n",
       "      <td>0</td>\n",
       "    </tr>\n",
       "    <tr>\n",
       "      <th>17</th>\n",
       "      <td>#PreviouslyOnDoyinTv: Toke MakinwaÛªs marriag...</td>\n",
       "      <td>1</td>\n",
       "    </tr>\n",
       "    <tr>\n",
       "      <th>18</th>\n",
       "      <td>Check these out: http://t.co/rOI2NSmEJJ http:/...</td>\n",
       "      <td>0</td>\n",
       "    </tr>\n",
       "    <tr>\n",
       "      <th>19</th>\n",
       "      <td>PSA: IÛªm splitting my personalities.\\n\\n?? t...</td>\n",
       "      <td>0</td>\n",
       "    </tr>\n",
       "  </tbody>\n",
       "</table>\n",
       "</div>"
      ],
      "text/plain": [
       "                                                 Text  Prediction\n",
       "0                  Just happened a terrible car crash           1\n",
       "1   Heard about #earthquake is different cities, s...           1\n",
       "2   there is a forest fire at spot pond, geese are...           1\n",
       "3            Apocalypse lighting. #Spokane #wildfires           1\n",
       "4       Typhoon Soudelor kills 28 in China and Taiwan           1\n",
       "5                  We're shaking...It's an earthquake           1\n",
       "6   They'd probably still show more life than Arse...           0\n",
       "7                                   Hey! How are you?           0\n",
       "8                                    What a nice hat?           0\n",
       "9                                           Fuck off!           0\n",
       "10                              No I don't like cold!           0\n",
       "11                         NOOOOOOOOO! Don't do that!           0\n",
       "12                             No don't tell me that!           0\n",
       "13                                          What if?!           0\n",
       "14                                           Awesome!           0\n",
       "15  Birmingham Wholesale Market is ablaze BBC News...           1\n",
       "16  @sunkxssedharry will you wear shorts for race ...           0\n",
       "17  #PreviouslyOnDoyinTv: Toke MakinwaÛªs marriag...           1\n",
       "18  Check these out: http://t.co/rOI2NSmEJJ http:/...           0\n",
       "19  PSA: IÛªm splitting my personalities.\\n\\n?? t...           0"
      ]
     },
     "execution_count": 94,
     "metadata": {},
     "output_type": "execute_result"
    }
   ],
   "source": [
    "preds[:20]"
   ]
  },
  {
   "cell_type": "code",
   "execution_count": 97,
   "id": "d388ad0f",
   "metadata": {},
   "outputs": [
    {
     "name": "stdout",
     "output_type": "stream",
     "text": [
      "238/238 [==============================] - 6s 9ms/step - loss: 0.1466 - accuracy: 0.9431\n",
      "Test loss: 0.1465991586446762\n",
      "Test accuracy: 0.9431235790252686\n"
     ]
    }
   ],
   "source": [
    "# Evaluate using the training set - labeled\n",
    "# Find another disaster tweets dataset - labeled\n",
    "train_loss, train_acc = model.evaluate(X_train,y_train)\n",
    "print(f\"Test loss: {train_loss}\")\n",
    "print(f\"Test accuracy: {train_acc}\")"
   ]
  },
  {
   "cell_type": "markdown",
   "id": "ef4006b9",
   "metadata": {},
   "source": [
    "**Save the model**\n",
    "\n",
    "https://www.tensorflow.org/tutorials/keras/save_and_load"
   ]
  },
  {
   "cell_type": "code",
   "execution_count": 100,
   "id": "755fbb5c",
   "metadata": {},
   "outputs": [
    {
     "name": "stderr",
     "output_type": "stream",
     "text": [
      "WARNING:absl:Found untraced functions such as lstm_cell_1_layer_call_fn, lstm_cell_1_layer_call_and_return_conditional_losses, lstm_cell_2_layer_call_fn, lstm_cell_2_layer_call_and_return_conditional_losses while saving (showing 4 of 4). These functions will not be directly callable after loading.\n"
     ]
    },
    {
     "name": "stdout",
     "output_type": "stream",
     "text": [
      "INFO:tensorflow:Assets written to: ./model/RNNDisasterClf/assets\n"
     ]
    },
    {
     "name": "stderr",
     "output_type": "stream",
     "text": [
      "INFO:tensorflow:Assets written to: ./model/RNNDisasterClf/assets\n"
     ]
    }
   ],
   "source": [
    "# Save the model\n",
    "model.save('./model/RNNDisasterClf')"
   ]
  },
  {
   "cell_type": "code",
   "execution_count": 101,
   "id": "a4cb5fe7",
   "metadata": {
    "scrolled": true
   },
   "outputs": [
    {
     "name": "stderr",
     "output_type": "stream",
     "text": [
      "2022-10-16 16:24:35.634581: W tensorflow/core/common_runtime/graph_constructor.cc:805] Node 'cond/while' has 13 outputs but the _output_shapes attribute specifies shapes for 46 outputs. Output shapes may be inaccurate.\n",
      "2022-10-16 16:24:35.656088: W tensorflow/core/common_runtime/graph_constructor.cc:805] Node 'cond' has 5 outputs but the _output_shapes attribute specifies shapes for 46 outputs. Output shapes may be inaccurate.\n",
      "2022-10-16 16:24:36.743404: W tensorflow/core/common_runtime/graph_constructor.cc:805] Node 'cond/while' has 13 outputs but the _output_shapes attribute specifies shapes for 46 outputs. Output shapes may be inaccurate.\n",
      "2022-10-16 16:24:37.969072: W tensorflow/core/common_runtime/graph_constructor.cc:805] Node 'cond' has 5 outputs but the _output_shapes attribute specifies shapes for 46 outputs. Output shapes may be inaccurate.\n",
      "2022-10-16 16:24:38.671070: W tensorflow/core/common_runtime/graph_constructor.cc:805] Node 'cond/while' has 13 outputs but the _output_shapes attribute specifies shapes for 46 outputs. Output shapes may be inaccurate.\n",
      "2022-10-16 16:24:38.692527: W tensorflow/core/common_runtime/graph_constructor.cc:805] Node 'cond' has 5 outputs but the _output_shapes attribute specifies shapes for 46 outputs. Output shapes may be inaccurate.\n",
      "2022-10-16 16:24:42.692725: W tensorflow/core/common_runtime/graph_constructor.cc:805] Node 'cond/while' has 13 outputs but the _output_shapes attribute specifies shapes for 46 outputs. Output shapes may be inaccurate.\n",
      "2022-10-16 16:24:42.719176: W tensorflow/core/common_runtime/graph_constructor.cc:805] Node 'cond' has 5 outputs but the _output_shapes attribute specifies shapes for 46 outputs. Output shapes may be inaccurate.\n",
      "2022-10-16 16:24:43.036378: W tensorflow/core/common_runtime/graph_constructor.cc:805] Node 'cond/while' has 13 outputs but the _output_shapes attribute specifies shapes for 46 outputs. Output shapes may be inaccurate.\n",
      "2022-10-16 16:24:43.064113: W tensorflow/core/common_runtime/graph_constructor.cc:805] Node 'cond' has 5 outputs but the _output_shapes attribute specifies shapes for 46 outputs. Output shapes may be inaccurate.\n",
      "2022-10-16 16:24:43.659126: W tensorflow/core/common_runtime/graph_constructor.cc:805] Node 'cond/while' has 13 outputs but the _output_shapes attribute specifies shapes for 46 outputs. Output shapes may be inaccurate.\n",
      "2022-10-16 16:24:44.711539: W tensorflow/core/common_runtime/graph_constructor.cc:805] Node 'cond/while' has 13 outputs but the _output_shapes attribute specifies shapes for 46 outputs. Output shapes may be inaccurate.\n",
      "2022-10-16 16:24:44.733456: W tensorflow/core/common_runtime/graph_constructor.cc:805] Node 'cond' has 5 outputs but the _output_shapes attribute specifies shapes for 46 outputs. Output shapes may be inaccurate.\n",
      "2022-10-16 16:24:45.190369: W tensorflow/core/common_runtime/graph_constructor.cc:805] Node 'cond/while' has 13 outputs but the _output_shapes attribute specifies shapes for 46 outputs. Output shapes may be inaccurate.\n",
      "2022-10-16 16:24:45.213236: W tensorflow/core/common_runtime/graph_constructor.cc:805] Node 'cond' has 5 outputs but the _output_shapes attribute specifies shapes for 46 outputs. Output shapes may be inaccurate.\n",
      "2022-10-16 16:24:45.574052: W tensorflow/core/common_runtime/graph_constructor.cc:805] Node 'cond' has 5 outputs but the _output_shapes attribute specifies shapes for 46 outputs. Output shapes may be inaccurate.\n",
      "2022-10-16 16:24:46.166288: W tensorflow/core/common_runtime/graph_constructor.cc:805] Node 'cond/while' has 13 outputs but the _output_shapes attribute specifies shapes for 46 outputs. Output shapes may be inaccurate.\n",
      "2022-10-16 16:24:46.188277: W tensorflow/core/common_runtime/graph_constructor.cc:805] Node 'cond' has 5 outputs but the _output_shapes attribute specifies shapes for 46 outputs. Output shapes may be inaccurate.\n",
      "2022-10-16 16:24:46.672676: W tensorflow/core/common_runtime/graph_constructor.cc:805] Node 'cond/while' has 13 outputs but the _output_shapes attribute specifies shapes for 46 outputs. Output shapes may be inaccurate.\n",
      "2022-10-16 16:24:46.695039: W tensorflow/core/common_runtime/graph_constructor.cc:805] Node 'cond' has 5 outputs but the _output_shapes attribute specifies shapes for 46 outputs. Output shapes may be inaccurate.\n",
      "2022-10-16 16:24:46.733598: W tensorflow/core/common_runtime/graph_constructor.cc:805] Node 'cond/while' has 13 outputs but the _output_shapes attribute specifies shapes for 46 outputs. Output shapes may be inaccurate.\n",
      "2022-10-16 16:24:46.761447: W tensorflow/core/common_runtime/graph_constructor.cc:805] Node 'cond' has 5 outputs but the _output_shapes attribute specifies shapes for 46 outputs. Output shapes may be inaccurate.\n",
      "2022-10-16 16:24:47.298769: W tensorflow/core/common_runtime/graph_constructor.cc:805] Node 'cond/while' has 13 outputs but the _output_shapes attribute specifies shapes for 46 outputs. Output shapes may be inaccurate.\n",
      "2022-10-16 16:24:47.325132: W tensorflow/core/common_runtime/graph_constructor.cc:805] Node 'cond' has 5 outputs but the _output_shapes attribute specifies shapes for 46 outputs. Output shapes may be inaccurate.\n",
      "2022-10-16 16:24:48.379143: W tensorflow/core/common_runtime/graph_constructor.cc:805] Node 'cond/while' has 13 outputs but the _output_shapes attribute specifies shapes for 46 outputs. Output shapes may be inaccurate.\n",
      "2022-10-16 16:24:48.412492: W tensorflow/core/common_runtime/graph_constructor.cc:805] Node 'cond' has 5 outputs but the _output_shapes attribute specifies shapes for 46 outputs. Output shapes may be inaccurate.\n",
      "2022-10-16 16:24:48.725277: W tensorflow/core/common_runtime/graph_constructor.cc:805] Node 'cond/while' has 13 outputs but the _output_shapes attribute specifies shapes for 46 outputs. Output shapes may be inaccurate.\n",
      "2022-10-16 16:24:48.749844: W tensorflow/core/common_runtime/graph_constructor.cc:805] Node 'cond' has 5 outputs but the _output_shapes attribute specifies shapes for 46 outputs. Output shapes may be inaccurate.\n"
     ]
    },
    {
     "name": "stdout",
     "output_type": "stream",
     "text": [
      "Model: \"sequential\"\n",
      "_________________________________________________________________\n",
      " Layer (type)                Output Shape              Param #   \n",
      "=================================================================\n",
      " text_vectorization_3 (TextV  (None, None)             0         \n",
      " ectorization)                                                   \n",
      "                                                                 \n",
      " embedding (Embedding)       (None, None, 64)          320000    \n",
      "                                                                 \n",
      " bidirectional (Bidirectiona  (None, 128)              66048     \n",
      " l)                                                              \n",
      "                                                                 \n",
      " dense (Dense)               (None, 64)                8256      \n",
      "                                                                 \n",
      " dense_1 (Dense)             (None, 1)                 65        \n",
      "                                                                 \n",
      "=================================================================\n",
      "Total params: 394,369\n",
      "Trainable params: 394,369\n",
      "Non-trainable params: 0\n",
      "_________________________________________________________________\n"
     ]
    }
   ],
   "source": [
    "from tensorflow.keras.models import load_model\n",
    "# Load the model\n",
    "loaded_model = load_model('./model/RNNDisasterClf')\n",
    "\n",
    "# Check its architecture\n",
    "loaded_model.summary()"
   ]
  },
  {
   "cell_type": "code",
   "execution_count": 102,
   "id": "597505e8",
   "metadata": {},
   "outputs": [
    {
     "name": "stdout",
     "output_type": "stream",
     "text": [
      "1/1 [==============================] - 0s 29ms/step\n",
      "[1, 0, 0]\n"
     ]
    }
   ],
   "source": [
    "# Predict using loaded model\n",
    "sample_texts2 = ['There is an earthquake in Kuta Selatan Bali! Everybody was running outside!', 'RUN!', 'Hmmm, I am so hungry']\n",
    "predictions2 = model.predict(np.array(sample_texts2))\n",
    "print(transformPredictions(predictions2))"
   ]
  }
 ],
 "metadata": {
  "kernelspec": {
   "display_name": "Python 3 (ipykernel)",
   "language": "python",
   "name": "python3"
  },
  "language_info": {
   "codemirror_mode": {
    "name": "ipython",
    "version": 3
   },
   "file_extension": ".py",
   "mimetype": "text/x-python",
   "name": "python",
   "nbconvert_exporter": "python",
   "pygments_lexer": "ipython3",
   "version": "3.9.6"
  }
 },
 "nbformat": 4,
 "nbformat_minor": 5
}
